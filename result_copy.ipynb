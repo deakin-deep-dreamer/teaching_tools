{
 "cells": [
  {
   "cell_type": "markdown",
   "metadata": {},
   "source": [
    "## Copy results \n",
    "### FROM: OnTrack export xlsx \n",
    "### TO: BoE result xlsx.\n",
    "\n",
    "!!! Although the code is tested, it is adviced to manually cross check the transferred results. !!!\n",
    "\n",
    "Author: Ahsan Habib, School of IT, Deakin."
   ]
  },
  {
   "cell_type": "code",
   "execution_count": 10,
   "metadata": {},
   "outputs": [
    {
     "name": "stdout",
     "output_type": "stream",
     "text": [
      "Requirement already satisfied: openpyxl in /home/mahabib/anaconda3/lib/python3.10/site-packages (3.1.2)\n",
      "Requirement already satisfied: et-xmlfile in /home/mahabib/anaconda3/lib/python3.10/site-packages (from openpyxl) (1.1.0)\n"
     ]
    }
   ],
   "source": [
    "!pip install openpyxl\n",
    "\n",
    "import openpyxl"
   ]
  },
  {
   "cell_type": "code",
   "execution_count": 11,
   "metadata": {},
   "outputs": [],
   "source": [
    "def lookup_src(student_id, src_sheet, id_col=3, val_col=4, data_start_row=2):\n",
    "    row_num = data_start_row\n",
    "    while True:\n",
    "        cell_obj = src_sheet.cell(row=row_num, column=id_col)\n",
    "        # print(cell_obj, cell_obj.value)\n",
    "        if cell_obj is None or cell_obj.value is None:\n",
    "            # print(\"lookup_src cell value is None\")\n",
    "            return\n",
    "        if int(cell_obj.value) == student_id:\n",
    "            # print(f\"Found ID:{student_id} at row {row_num}\")\n",
    "            # get the grade\n",
    "            cell_obj = src_sheet.cell(row=row_num, column=val_col)            \n",
    "            # return round(float(cell_obj.value), 0)\n",
    "            return cell_obj.value\n",
    "        row_num += 1\n",
    "\n",
    "\n",
    "def find_col_by_name(sheet, header_row_num, header_name):\n",
    "    col = 1\n",
    "    while True:\n",
    "        cell_obj = sheet.cell(row=header_row_num, column=col)\n",
    "        if cell_obj.value == header_name:\n",
    "            return col\n",
    "        col += 1"
   ]
  },
  {
   "cell_type": "code",
   "execution_count": 14,
   "metadata": {},
   "outputs": [
    {
     "name": "stdout",
     "output_type": "stream",
     "text": [
      "Notes: 96\n",
      "Total 94 rows updated out of 112, missing:18.\n",
      "Missing IDs: [223246624, 224324435, 223045108, 219123969, 222524354, 224455121, 224470288, 224453808, 222398231, 223330914, 224108926, 223171213, 224415265, 219355343, 217090531, 100033634, 220570299, 224600566]\n"
     ]
    }
   ],
   "source": [
    "DEST_DATA_START = 13\n",
    "DEST_ID_COL = 3\n",
    "DEST_MARK_COL = 7\n",
    "DEST_XLSX_FILE = \"results/SIT225-2024-T2.xlsx\"\n",
    "DEST_WORKBOOK = \"Results\"\n",
    "\n",
    "SRC_XLSX_FILE = \"results/SIT225-Students-ontrack-all.xlsx\"\n",
    "SRC_WORKBOOK = \"SIT225-Students-ontrack-all\"\n",
    "SRC_ID_COL = 3\n",
    "SRC_MARK_COL = 4\n",
    "SRC_COMMENT_COL = 5\n",
    "\n",
    "dest_wb = openpyxl.load_workbook(DEST_XLSX_FILE)\n",
    "try:\n",
    "    dest_sheet_obj = dest_wb[DEST_WORKBOOK]\n",
    "except:\n",
    "    raise Exception(f\"Destination ({DEST_XLSX_FILE}) does not have workbook '{DEST_WORKBOOK}'\")\n",
    "\n",
    "src_wb = openpyxl.load_workbook(SRC_XLSX_FILE)\n",
    "try:\n",
    "    src_sheet_obj = src_wb[SRC_WORKBOOK]\n",
    "except:\n",
    "    raise Exception(f\"Source ({SRC_XLSX_FILE}) does not have workbook '{SRC_WORKBOOK}'\")\n",
    "\n",
    "dest_col_notes = find_col_by_name(dest_sheet_obj, DEST_DATA_START-1, \"Notes\")\n",
    "if dest_col_notes is None:\n",
    "    print(f\"Notes column not found in destination header row {DEST_DATA_START-1}\")\n",
    "else:\n",
    "    print(\"Notes:\", dest_col_notes)\n",
    "\n",
    "dst_update_count = 0\n",
    "dst_row = DEST_DATA_START\n",
    "dst_missing_ids = []\n",
    "while True:\n",
    "    cell_obj = dest_sheet_obj.cell(row=dst_row, column=DEST_ID_COL)\n",
    "    if cell_obj is None or cell_obj.value is None:\n",
    "        break\n",
    "    dst_id = int(cell_obj.value)\n",
    "    # print(dst_id)    \n",
    "\n",
    "    found = lookup_src(dst_id, src_sheet_obj, id_col=SRC_ID_COL, val_col=SRC_MARK_COL)\n",
    "    if found is not None:\n",
    "        dest_sheet_obj.cell(row=dst_row, column=DEST_MARK_COL).value = round(float(found), 0)\n",
    "        dst_update_count += 1\n",
    "\n",
    "        # Find comments\n",
    "        found = lookup_src(dst_id, src_sheet_obj, id_col=SRC_ID_COL, val_col=SRC_COMMENT_COL)\n",
    "        if found is not None:\n",
    "            dest_sheet_obj.cell(row=dst_row, column=dest_col_notes).value = found\n",
    "    else:\n",
    "        dst_missing_ids.append(dst_id)\n",
    "    dst_row += 1\n",
    "\n",
    "dst_total_count = dst_row - DEST_DATA_START\n",
    "print(f\"Total {dst_update_count} rows updated out of {dst_total_count}, missing:{dst_total_count-dst_update_count}.\")\n",
    "print(f\"Missing IDs: {dst_missing_ids}\")\n",
    "dest_wb.save(\"results/SIT225-2024-T2-updated.xlsx\")"
   ]
  }
 ],
 "metadata": {
  "kernelspec": {
   "display_name": "base",
   "language": "python",
   "name": "python3"
  },
  "language_info": {
   "codemirror_mode": {
    "name": "ipython",
    "version": 3
   },
   "file_extension": ".py",
   "mimetype": "text/x-python",
   "name": "python",
   "nbconvert_exporter": "python",
   "pygments_lexer": "ipython3",
   "version": "3.10.9"
  }
 },
 "nbformat": 4,
 "nbformat_minor": 2
}
